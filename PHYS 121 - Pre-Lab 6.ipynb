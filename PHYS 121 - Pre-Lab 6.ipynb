{
 "cells": [
  {
   "cell_type": "markdown",
   "id": "5e9b2e61",
   "metadata": {
    "deletable": false,
    "editable": false,
    "tags": []
   },
   "source": [
    "# <div style=\"background-color:rgba(204, 229, 255, 0.5); text-align:center; vertical-align: middle; padding:40px 0; margin-top:30px\"><span style=\"color:rgba(0, 76, 153, 1);\">**PHYS 121 Pre-Lab #6**<span style=\"color:red\"> $\\to$ (4 possible marks)</span> </span></div> \n",
    "\n",
    "<font size =\"4\"><span style=\"color:purple\">We recommend that you complete this notebook using either the [Google Chrome](https://www.google.com/intl/en_ca/chrome/) or [Mozilla Firefox](https://www.mozilla.org/en-CA/firefox/new/) browser.  Chrome and Firefox are both available for Windows, Mac, and Linux operating systems.  The PHYS 121 Jupyter notebooks should work in other browsers, but we have specifically verfied that they work well in both Chrome and Firefox.</span></font>\n",
    "\n",
    "# Electric $RC$ Circuits"
   ]
  },
  {
   "cell_type": "markdown",
   "id": "60d1731f",
   "metadata": {
    "deletable": false,
    "editable": false,
    "tags": []
   },
   "source": [
    "***\n",
    "## Learning Objectives:\n",
    "* <b><span style=\"color:rgba(0, 153, 76, 1);\">Recall the rules for propagation of error and practice implementing those rules.</span></b>\n",
    "* <b><span style=\"color:rgba(0, 153, 76, 1);\">Gain an appreciation for the origin of the propagation of error rules.</span></b>"
   ]
  },
  {
   "cell_type": "markdown",
   "id": "a9c15f1e",
   "metadata": {
    "deletable": false,
    "editable": false,
    "tags": []
   },
   "source": [
    "***\n",
    "## Autograding:\n",
    "The PHYS 121 Pre-lab assignments and Labs will make use of some autograding.  To make the autograding work, the two cells below needs to be executed.  The first one installs the required packages and the second imports required packages/modules.  If 'PHYS121.Installer()' reports that some functions have been installed, the user should restart the \"kernel\" and then exectute the PHYS121.Installer() cell a second time.  The second time the installer function is run, it should report that **\"All packages already installed. Please proceed\"**.\n",
    "\n",
    "If necessary, the kernel can be restarted by selecting **Kernel** $\\to$ **Restart Kernel** from the menu options at to the top of the page.  Here is a <a href = \"https://cmps-people.ok.ubc.ca/jbobowsk/PHYS_121_Lab/images/restartKernel.gif\">GIF</a> showing how to restart the kernel.\n",
    "\n",
    "The 'PHYS121.Installer()' command requires the file 'PHYS121.py', which you should see included in the list of files along the left-hand side of the screen."
   ]
  },
  {
   "cell_type": "code",
   "execution_count": null,
   "id": "1c652366",
   "metadata": {
    "deletable": false,
    "editable": false,
    "tags": []
   },
   "outputs": [],
   "source": [
    "# Import PHYS121.py and then run the installer function.\n",
    "import PHYS121\n",
    "PHYS121.Installer()"
   ]
  },
  {
   "cell_type": "code",
   "execution_count": null,
   "id": "18706b1c",
   "metadata": {
    "deletable": false,
    "editable": false,
    "tags": []
   },
   "outputs": [],
   "source": [
    "# Initialize Otter\n",
    "import otter\n",
    "grader = otter.Notebook(\"PHYS 121 - Pre-Lab 6.ipynb\")"
   ]
  },
  {
   "cell_type": "markdown",
   "id": "86563d58",
   "metadata": {
    "deletable": false,
    "editable": false,
    "tags": []
   },
   "source": [
    "***\n",
    "## Import Modules:\n",
    "Execute the cell below to import a number of useful pre-built Python modules that will be used in the PHYS 121 pre-labs and labs."
   ]
  },
  {
   "cell_type": "code",
   "execution_count": null,
   "id": "6a51900c",
   "metadata": {},
   "outputs": [],
   "source": [
    "import numpy as np\n",
    "import matplotlib.pyplot as plt\n",
    "import pandas as pd\n",
    "from matplotlib.pyplot import cm # used to generate a sequence of colours for plotting\n",
    "from scipy.optimize import curve_fit\n",
    "from IPython.display import HTML as html_print\n",
    "from IPython.display import display, Markdown, Latex\n",
    "from IPython.display import YouTubeVideo\n",
    "import math"
   ]
  },
  {
   "cell_type": "markdown",
   "id": "f4a59948",
   "metadata": {
    "deletable": false,
    "editable": false,
    "tags": []
   },
   "source": [
    "# <div style=\"background-color:rgba(255, 204, 255, 0.5); text-align:center; vertical-align: middle; padding:40px 0; margin-top:30px\"><span style=\"color:rgba(102, 0, 204, 1);\">Part 1 - Propagation of Error</span></div>\n",
    "\n",
    "Often the quantities we're measuring directly aren't what we're actually interested in - rather, they can be used to deduce something else. Error propagation is the method by which we translate the uncertainties in our measurements to the uncertainties in quantities derived from those measurements. Put mathematically, if $x$ and $y$ are measured quantities with uncertainties $\\delta x$ and $\\delta y$ respectively, what is the uncertainty $\\delta z$ associated with some derived quantity $z = z(x, y)$? \n",
    "\n",
    "This pre-lab exercise will:\n",
    " - remind you error propagation rules that were introduced in PHYS 111\n",
    " - get you to practice some simple applications of error propagation\n",
    " - try to provide some insight into where these rules come from\n",
    " \n",
    " \n",
    "### Error Propagation Rules\n",
    "\n",
    "***\n",
    "#### 1. Multiplying by a constant\n",
    "$z = cx$\n",
    "\n",
    "$x\\pm\\delta x$ is known and $c$ is a constant.  The uncertainty in $z$ is given by:\n",
    "\n",
    "\\begin{align}\n",
    "\\delta z = \\left\\vert c\\right\\vert\\delta x\n",
    "\\tag{1}\n",
    "\\end{align}\n",
    "\n",
    "***\n",
    "#### 2. Addition and subtraction\n",
    "$z = x \\pm y$ \n",
    "\n",
    "$x\\pm\\delta x$ and $y\\pm\\delta y$ are known.  The uncertainty in $z$ is given by:\n",
    "\n",
    "\\begin{align}\n",
    "\\delta z = \\delta x + \\delta y\n",
    "\\tag{2}\n",
    "\\end{align}\n",
    "\n",
    "Notice that the absolute errors are *added* even when $x$ and $y$ are subtracted.\n",
    "\n",
    "***\n",
    "#### 3. Multiplication and division\n",
    "$z = xy$ or $z = \\dfrac{x}{y}$\n",
    "\n",
    "$x\\pm\\delta x$ and $y\\pm\\delta y$ are known.  In the case of multiplication and division, we add the **relative errors** rather than the absolute errors:\n",
    "\n",
    "\\begin{align}\n",
    "\\frac{\\delta z}{\\left| z \\right|} = \\frac{\\delta x}{\\left| x \\right|} + \\frac{\\delta y}{\\left| y \\right|}\n",
    "\\end{align}\n",
    "\n",
    "Solving for $\\delta z$ gives:\n",
    "\n",
    "\\begin{align}\n",
    "\\delta z = \\left| z \\right| \\left( \\frac{\\delta x}{\\left| x \\right|} + \\frac{\\delta y}{\\left| y \\right|} \\right)\n",
    "\\tag{3}\n",
    "\\end{align}\n",
    "\n",
    "Notice that we use absolute values in our expression.\n",
    "\n",
    "***\n",
    "#### 4. Raising quantities to a power\n",
    "$z = x^\\alpha$\n",
    "\n",
    "$x\\pm\\delta x$ is known and $\\alpha$ is a constant.  The relative uncertainty in $z$ is given by:\n",
    "\n",
    "\\begin{align}\n",
    "\\frac{\\delta z}{\\left| z \\right|} =  \\left| \\alpha \\right|\\frac{\\delta x}{\\left| x \\right|}\n",
    "\\end{align}\n",
    "\n",
    "Solving for $\\delta z$ yields:\n",
    "\n",
    "\\begin{align}\n",
    "\\delta z &= \\left|\\alpha z\\right|\\frac{\\delta x}{\\left| x\\right|}\\\\\n",
    " &= \\left| \\alpha x^{\\alpha - 1} \\right| \\delta x\\tag{4}\n",
    "\\end{align}\n",
    "\n",
    "***\n",
    "#### An example...\n",
    "When faced with more complicated expressions, one must take care to apply the propagation of error rules in a suitable order. \n",
    "\n",
    "For example, suppose we measure a third quantity $w + \\delta w$ to go along with $x\\pm\\delta x$ and $y\\pm\\delta y$ and $z = \\dfrac{2\\pi\\, w}{x^2+y}$.  \n",
    "\n",
    "To find $\\delta z$, we could start by defining the **N**umerator of $z$ to be $N = 2\\pi w$.  Since $2\\pi$ is a constant, we can apply **rule 1** to find:\n",
    "\n",
    "$$\n",
    "\\delta N = 2\\pi\\, \\delta w\n",
    "$$\n",
    "\n",
    "Next, we define $x$ raised to the **P**ower $2$ as $P=x^2$ and, by **rule 4**, we have:\n",
    "\n",
    "$$\n",
    "\\delta P = 2\\left\\vert x\\right\\vert\\delta x\n",
    "$$\n",
    "\n",
    "Continuing in this fasion, we define the **D**enominator of $z$ as $D = P + y$ and apply **rule 2** to find:\n",
    "\n",
    "\\begin{align}\n",
    "\\delta D &= \\delta P + \\delta y\\\\\n",
    "&= 2\\left\\vert x\\right\\vert\\, \\delta x + \\delta y\n",
    "\\end{align}\n",
    "\n",
    "Finally, we're left with $z = \\dfrac{N}{D}$ and applying **rule 3** leads to:\n",
    "\n",
    "\\begin{align}\n",
    "\\frac{\\delta z}{\\left\\vert z\\right\\vert} &= \\frac{\\delta N}{\\left\\vert N\\right\\vert} + \\frac{\\delta D}{\\left\\vert D\\right\\vert}\\\\\n",
    "&= \\frac{2\\pi\\,\\delta w}{2\\pi \\left\\vert w\\right\\vert} + \\frac{2\\left\\vert x\\right\\vert \\delta x + \\delta y}{\\left\\vert x^2 + y\\right\\vert}\n",
    "\\end{align}\n",
    "\n",
    "Cancelling the common factor of $2\\pi$ and solving for $\\delta z$ gives the desired final result:\n",
    "\n",
    "\\begin{align}\n",
    "\\delta z &= \\left\\vert z\\right\\vert\\left(\\frac{\\delta w}{\\left\\vert w\\right\\vert} + \\frac{2\\left\\vert x\\right\\vert \\delta x + \\delta y}{\\left\\vert x^2 + y\\right\\vert}\\right)\\\\\n",
    "&= \\left\\vert \\frac{2\\pi\\, w}{x^2 + z}\\right\\vert\\left(\\frac{\\delta w}{\\left\\vert w\\right\\vert} + \\frac{2\\left\\vert x\\right\\vert \\delta x + \\delta y}{\\left\\vert x^2 + y\\right\\vert}\\right)\n",
    "\\tag{5}\n",
    "\\end{align}\n",
    "\n",
    "***\n",
    "\n",
    "#### Experimental error or uncertainty is not the result of a mistake or \"human error\"...\n",
    "\n",
    "As a final note before you answer the questions below, you've probably noticed that we sometimes use the terms \"error\" and \"uncertaintly\" interchangeably. This should *not* be taken to mean that that experimental uncertainty is necessarily a result of an error in the experiment or a mistake by the person conducting the experiment. To the contrary: regardless of the precsion of the measurement and/or the care taken by the experimentalist, every measured quantity has an associated uncertainty. Of course, we try to design our experiments so as to minimize the experimental uncertainty, but it is never possible to eliminate it completely.\n",
    "    \n",
    "\n",
    "***"
   ]
  },
  {
   "cell_type": "markdown",
   "id": "de8a6a27",
   "metadata": {
    "deletable": false,
    "editable": false,
    "tags": []
   },
   "source": [
    "#### Preparation for Lab #6\n",
    "\n",
    "In this week's lab, you will experimentally investigate the charging and discharging of capacitors and the characteristics exhibited by simple resistor-capacitor $(RC)$ circuits.  The experiment will make use of automated data collection methods, allowing you to rapidly acquire large datasets. In this pre-lab, you will write some simple lines of error analysis code that you will be able to use in Lab #6."
   ]
  },
  {
   "cell_type": "markdown",
   "id": "8a42c3f8",
   "metadata": {
    "deletable": false,
    "editable": false,
    "tags": []
   },
   "source": [
    "If a charged capacitor $C$ is discharged through a resistor $R$, the time dependence of the voltage $V_C$ across the capacitor is given by:\n",
    "\n",
    "\\begin{align}\n",
    "V = V_0\\exp\\left( -\\frac{t}{\\tau} \\right)\n",
    "\\label{eq:RC} \\tag{6}\n",
    "\\end{align}\n",
    "\n",
    "where $V_0$ is the voltage across the capacitor at time $t = 0$ and $\\tau = RC$ is the characteristic **time constant**. "
   ]
  },
  {
   "cell_type": "markdown",
   "id": "66cc1def",
   "metadata": {
    "deletable": false,
    "editable": false,
    "tags": []
   },
   "source": [
    "***\n",
    "**<span style=\"color:blue\">Question 1.1</span>**  **<span style=\"color:red\">(1 mark)</span>**\n",
    "\n",
    "Suppose we have nominal values of $R = (5000 \\pm 250)\\rm\\ \\Omega$ and $C = (5.0 \\pm 1.0)\\times 10^{-3}\\rm\\ F$. Using the rules of error propagation, enter a symbolic expressions that calculate the value of $\\tau$ and its uncertainty $\\delta\\tau$. \n",
    "\n",
    "Use the code cells below to calculate $\\tau$ and $\\delta\\tau$.  The first cell is used to assign values to the variables R, errR, C, and errC and has been completed for you.  Note that your answers in the pair of cells that follow must use the variables R, C, errR, and errC.\n",
    "\n",
    "*** Please do not change any of the variable names in the cell below ***"
   ]
  },
  {
   "cell_type": "code",
   "execution_count": null,
   "id": "91b62131",
   "metadata": {
    "tags": []
   },
   "outputs": [],
   "source": [
    "# Execute this cell to assign the values to the variables R, errR, C, and errC\n",
    "R = 5000 # Ohms\n",
    "errR = 250 # Ohms\n",
    "C = 5.0e-3 # Farads\n",
    "errC = 1.0e-3 # Farads"
   ]
  },
  {
   "cell_type": "code",
   "execution_count": null,
   "id": "9df23687",
   "metadata": {
    "tags": []
   },
   "outputs": [],
   "source": [
    "# Replace the ... with an expression that calculates the time constant\n",
    "tau1 = ...\n",
    "print(tau1, 's')"
   ]
  },
  {
   "cell_type": "code",
   "execution_count": null,
   "id": "00a94af7",
   "metadata": {
    "tags": []
   },
   "outputs": [],
   "source": [
    "# Replace the ... with an expression that calculates the uncertainty in the time constant\n",
    "errTau1 = ...\n",
    "print(errTau1, 's')"
   ]
  },
  {
   "cell_type": "code",
   "execution_count": null,
   "id": "5f837081",
   "metadata": {
    "deletable": false,
    "editable": false
   },
   "outputs": [],
   "source": [
    "grader.check(\"q1.1\")"
   ]
  },
  {
   "cell_type": "markdown",
   "id": "3ef4ef31",
   "metadata": {
    "deletable": false,
    "editable": false,
    "tags": []
   },
   "source": [
    "***\n",
    "\n",
    "Taking the natural logarithmof Eq. $(6)$ yields:\n",
    "\n",
    "\\begin{align}\n",
    "\\ln\\left(V \\right) = -\\frac{t}{\\tau} + \\ln\\left(V_0\\right) \n",
    "\\label{eq:RC2} \\tag{7}\n",
    "\\end{align}\n",
    "\n",
    "which, on a plot of $\\ln\\left(V\\right)$ versus $t$, yields a straight line."
   ]
  },
  {
   "cell_type": "markdown",
   "id": "f5e1324d",
   "metadata": {
    "deletable": false,
    "editable": false,
    "tags": []
   },
   "source": [
    "***\n",
    "**<span style=\"color:blue\">Question 1.2</span>**  **<span style=\"color:red\">(1 mark)</span>**\n",
    "\n",
    "Suppose the slope of $\\ln\\left(V\\right)$ as a function of $t$ has a numerical value of $-0.043201\\rm\\ s^{-1}$ with an uncertainty of $0.000029\\rm\\ s^{-1}$. Use Eq. $(7)$, to find an expression that relates $\\tau$ to the slope.  Enter the expression in the cell below to find the value of the time constant $\\tau$.\n",
    "\n",
    "Again, the first cell is used to assign numerical values to the variables 'slope' and 'errSlope' and has been completed for you.\n",
    "\n",
    "*** Please do not change any of the variable names in the cell below ***"
   ]
  },
  {
   "cell_type": "code",
   "execution_count": null,
   "id": "073db624",
   "metadata": {},
   "outputs": [],
   "source": [
    "# Execute this cell to assign numerical values to the variables slope and errSlope\n",
    "slope = -0.043201 # 1/s\n",
    "errSlope = 0.000029 # 1/s"
   ]
  },
  {
   "cell_type": "code",
   "execution_count": null,
   "id": "f985a388",
   "metadata": {
    "tags": []
   },
   "outputs": [],
   "source": [
    "# Replace ... with an expression that calculates the time constant from the slope \n",
    "tau2 = ...\n",
    "print(tau2, '1/s')"
   ]
  },
  {
   "cell_type": "code",
   "execution_count": null,
   "id": "f76bf185",
   "metadata": {
    "deletable": false,
    "editable": false
   },
   "outputs": [],
   "source": [
    "grader.check(\"q1.2\")"
   ]
  },
  {
   "cell_type": "markdown",
   "id": "b9b5e85d",
   "metadata": {
    "deletable": false,
    "editable": false,
    "tags": []
   },
   "source": [
    "***\n",
    "**<span style=\"color:blue\">Question 1.3</span>**  **<span style=\"color:red\">(1 mark)</span>**\n",
    "\n",
    "Using the propagation or error rules above, enter an expression that calculates $\\delta\\tau$, the uncertainty in $\\tau$. Your answer must use the variables 'slope' and 'errSlope' as defined in **Question 1.2** above.\n",
    "\n",
    "*** Please do not change any of the variable names in the cell below ***"
   ]
  },
  {
   "cell_type": "code",
   "execution_count": null,
   "id": "327e1b39",
   "metadata": {
    "tags": []
   },
   "outputs": [],
   "source": [
    "# Replace ... Write an expression that calculates the uncertainty in the time constant. \n",
    "errTau2 = ...\n",
    "print(errTau2, '1/s')"
   ]
  },
  {
   "cell_type": "code",
   "execution_count": null,
   "id": "adccb8bb",
   "metadata": {
    "deletable": false,
    "editable": false
   },
   "outputs": [],
   "source": [
    "grader.check(\"q1.3\")"
   ]
  },
  {
   "cell_type": "markdown",
   "id": "3998ef0c",
   "metadata": {
    "deletable": false,
    "editable": false,
    "tags": []
   },
   "source": [
    "# <div style=\"background-color:rgba(255, 204, 255, 0.5); text-align:center; vertical-align: middle; padding:40px 0; margin-top:30px\"><span style=\"color:rgba(102, 0, 204, 1);\">Part 2 - Origin of the Error Propagation Rules</span></div>\n",
    "\n",
    "This part of the pre-lab attempts to give some insight into where the propagation of error rules come from.  Consider **Fig. 1** below which shows a plot of an arbitrary function $z = f(x)$ versus $x$ (orange line).\n",
    "\n",
    "<p>\n",
    "<center>\n",
    "<img src=\"https://raw.githubusercontent.com/UBC-Okanagan-Physics-Labs/PHYS-121-images/main/Pre-Lab-6/images/Propagation_of_Uncertainty.svg\" width=\"650\"/>\n",
    "<br>\n",
    "<b>Fig. 1: A plot of $z = f(x)$ versus $x$.  If the uncertainty in a measured value of $x$, say $x_\\mathrm{A}$, is $\\delta x_\\mathrm{A}$, the corresponding uncertainty in $z$ is given by $\\delta x_\\mathrm{A}$ multiplied by the slope of the line tangent to $f(x)$ at $x_\\mathrm{A}$: $\\delta z_\\mathrm{A} = \\left.\\dfrac{df}{dx}\\right\\vert_{x = x_\\mathrm{A}}\\delta x_\\mathrm{A}$.  Adapted from a figure found in the Wikimedia Commens collection (<a href = \"https://commons.wikimedia.org/wiki/File:Propagation_of_Uncertainty.png\">https://commons.wikimedia.org/wiki/File:Propagation_of_Uncertainty.png</a>).</b></center>\n",
    "</p>\n",
    "\n",
    "First, notice that $f(x)$ is steep for small values of $x$ and shallow for larger values of $x$. This observation will turn out to be important when considering how to estimate uncertainties in $z$ from known uncertainities in $x$.\n",
    "\n",
    "Suppose that you have made a measurement of $x$ and obtained the result $x_\\mathrm{A}\\pm\\delta x_\\mathrm{A}$.  Perhaps $x$ represents the position of a particle in a particle accelerator and $z = f(x)$ is its speed, for example.  **Figure 1** shows the position of $x_\\mathrm{A}$ along the $x$-axis and the range of $x$ values spanning $x_\\mathrm{A} - \\delta x_\\mathrm{A} < x < x_\\mathrm{A} + \\delta x_\\mathrm{A}$.  Our objective is to find the corresponding range of $z$ values spanned along the vertical axis and to use this range to estimate $\\delta z_\\mathrm{A}$.  \n",
    "\n",
    "The strategy is to assume that $f(x)$ can be reasonably well approximated as a straight line over the range of $x$ values from $x_\\mathrm{A} - \\delta x_\\mathrm{A}$ to $x_\\mathrm{A} + \\delta x_\\mathrm{A}$.  This assumption will be valid provided $\\delta x_\\mathrm{A}$ is reasonably small.  Fortunately, we already know how to find a straght line that approximates $f(x)$: $\\left.\\dfrac{df}{dx}\\right\\vert_{x_\\mathrm{A}}$ gives use the slope of a line that is tangent to $f(x)$ at $x=x_\\mathrm{A}$. Next, recall that we can also find the slope of a straight line using $\\mathrm{rise}/\\mathrm{run}$.  Referring again to **Fig. 1**, the dashed green line centred on $(x, z) = (x_\\mathrm{A}, f(x_\\mathrm{A}))$ is tangent to $f(x)$ and has $\\mathrm{rise} = -\\delta z_\\mathrm{A}$ and $\\mathrm{run} = \\delta x_\\mathrm{A}$.  Equating these two methods for finding the slope of the tangent gives:\n",
    "\n",
    "$$\n",
    "\\left.\\frac{df}{dx}\\right\\vert_{x_\\mathrm{A}} = \\frac{-\\delta z_\\mathrm{A}}{\\delta x_\\mathrm{A}}\n",
    "$$\n",
    "\n",
    "Uncertainty estimates are given as positive quantities, so we're not interested in the sign of the slope.  Taking the absolute value and solving for $\\delta z_\\mathrm{A}$ gives the desired result:\n",
    "\n",
    "$$\n",
    "\\delta z_\\mathrm{A} = \\left\\vert\\,\\,\\left.\\frac{df}{dx}\\right\\vert_{x_\\mathrm{A}}\\,\\right\\vert\\delta x_\\mathrm{A}\n",
    "$$\n",
    "\n",
    "**Figure 1** shows uncertainty estimates of $\\delta z$ at two different values of $x$.  <span style=\"color:blue;\">Blue</span> symbols are used for <span style=\"color:blue;\">$\\delta z_\\mathrm{A}$</span> at <span style=\"color:blue;\">$x_\\mathrm{A}$</span> and <span style=\"color:red;\">red</span> symbols are used for <span style=\"color:red;\">$\\delta z_\\mathrm{B}$</span> at <span style=\"color:red;\">$x_\\mathrm{B}$</span>.  Notice that, even though the $x$-uncertainties <span style=\"color:blue;\">$\\delta x_\\mathrm{A}$</span> and <span style=\"color:red;\">$\\delta x_\\mathrm{B}$</span> are equal, the corresponding $z$-uncertainities are very different with <span style=\"color:blue;\">$\\delta z_\\mathrm{A}$</span> $\\gg$ <span style=\"color:red;\">$\\delta z_\\mathrm{B}$</span>.  The reason for this difference is that the slope of $f(x)$ is much steeper at <span style=\"color:blue;\">$x_\\mathrm{A}$</span> than it is at <span style=\"color:red;\">$x_\\mathrm{B}$</span>.  Therefore, the span of <span style=\"color:blue;\">$\\delta z_\\mathrm{A}$</span> is greater than the span of <span style=\"color:red;\">$\\delta z_\\mathrm{B}$</span>, even though <span style=\"color:blue;\">$\\delta x_\\mathrm{A}$</span> $=$ <span style=\"color:red;\">$\\delta x_\\mathrm{B}$</span>.  In other words, <span style=\"color:blue;\">$\\delta z_\\mathrm{A}$</span> $\\gg$ <span style=\"color:red;\">$\\delta z_\\mathrm{B}$</span> because:\n",
    "\n",
    "$$\n",
    "\\left\\vert\\,\\,\\left.\\frac{df}{dx}\\right\\vert_{x_\\mathrm{A}}\\,\\right\\vert\\gg\\left\\vert\\,\\,\\left.\\frac{df}{dx}\\right\\vert_{x_\\mathrm{B}}\\,\\right\\vert,\n",
    "$$\n",
    "or $f(x)$ changes much more rapdily with $x$ near <span style=\"color:blue;\">$x_\\mathrm{A}$</span> than it does near <span style=\"color:red;\">$x_\\mathrm{B}$</span>. \n",
    "\n",
    "#### Summary...\n",
    "\n",
    "For a function of a single variable, $z = f(x)$, the uncertainty in $z$ for a known $x\\pm\\delta x$ is given by:\n",
    "\n",
    "$$\n",
    "\\delta z = \\left\\vert\\frac{df}{dx}\\right\\vert\\delta x\n",
    "\\tag{8}\n",
    "$$\n",
    "\n",
    "#### Error Propagation Rules 1 and 4...\n",
    "\n",
    "Equation $(8)$ is everything we need to reproduce error propagation **rules 1** and **4**.  Consider, for example, $z = cx$, where $c$ is a constant and $x\\pm\\delta x$ has been measured.  Applying Eq. $(8)$ gives:\n",
    "\n",
    "\\begin{align}\n",
    "\\delta z &= \\left\\vert\\frac{d}{dx}\\left(c x\\right)\\right\\vert\\delta x\\\\\n",
    "&= \\left\\vert c\\right\\vert\\delta x\n",
    "\\end{align}\n",
    "\n",
    "which is the expected result given by Eq. $(1)$.  We'll leave it as an exercise for the student to apply Eq. $(8)$ to $z = x^\\alpha$ to verify that it reproduces the expected result given by Eq. $(4)$.\n",
    "\n",
    "#### Cases Not Covered by Error Propagation Rules...\n",
    "\n",
    "An advantage of using Eq. $(8)$ is that it can be applied to cases not covered by the the four error progagation rules.  Consider, for example, the function:\n",
    "\n",
    "$$\n",
    "z = \\log(x)\n",
    "$$\n",
    "\n",
    "We encountered this situation in Lab #5 when plotting $\\log\\left(R_\\mathrm{H}\\right)$ versus $\\log\\left(1/d\\right)$.  We can treat this case by first making use of the fact that $\\ln\\left(x\\right)$ and $\\log\\left(x\\right)$ are related to one another via:\n",
    "\n",
    "\\begin{align}\n",
    "z &= \\log(x)\\\\ \n",
    "&= \\frac{1}{\\ln\\left(10\\right)}\\ln\\left(x\\right)\n",
    "\\end{align}\n",
    "\n",
    "The $1/\\ln\\left(10\\right)$ factor is a constant and the $x$-derivative of $\\ln\\left(x\\right)$ is $1/x$.  Combining these two results allows us to apply Eq. $(8)$ to find:\n",
    "\n",
    "\\begin{align}\n",
    "\\delta z &= \\left\\vert \\frac{d}{dx}\\left(\\frac{1}{\\ln\\left(10\\right)}\\ln\\left(x\\right)\\right)\\right\\vert\\delta x\\\\\n",
    "&= \\frac{1}{\\ln\\left(10\\right)}\\left\\vert\\frac{d}{dx}\\ln\\left(x\\right)\\right\\vert\\delta x\\\\\n",
    "&= \\frac{1}{\\ln\\left(10\\right)}\\frac{1}{\\left\\vert x\\right\\vert}\\delta x\\\\\n",
    "\\therefore \\delta z &= \\frac{\\delta x}{\\left\\vert x\\right\\vert\\ln\\left(10\\right)}\n",
    "\\end{align}\n",
    "\n",
    "This is the result that we used when calculating the uncertainty in $\\log\\left(R_\\mathrm{H}\\right)$ in Lab #5."
   ]
  },
  {
   "cell_type": "markdown",
   "id": "4ae81f96",
   "metadata": {
    "deletable": false,
    "editable": false,
    "tags": []
   },
   "source": [
    "***\n",
    "**<span style=\"color:blue\">Question 2.1</span>** **<span style=\"color:red\">(1 mark)</span>**  \n",
    "\n",
    "Suppose that you measured $x\\pm\\delta x$ and that a quantity of interest is given by $z = \\cos^2\\left(2\\pi x\\right)$.  The corresponding uncertainty in $z$ is given by:\n",
    "\n",
    "(a) $\\delta z = 4\\pi\\cos\\left(2\\pi x\\right)\\sin\\left(2\\pi x\\right)\\,\\delta x$  \n",
    "(b) $\\delta z = 4\\pi\\cos\\left(2\\pi x\\right)\\,\\delta x$  \n",
    "(c) $\\delta z = 4\\pi\\sin\\left(2\\pi x\\right)\\,\\delta x$  \n",
    "(d) $\\delta z = 4\\cos\\left(2\\pi x\\right)\\sin\\left(2\\pi x\\right)\\,\\delta x$   \n",
    "(e) $\\delta z = 0$  "
   ]
  },
  {
   "cell_type": "markdown",
   "id": "8d370dc9",
   "metadata": {
    "deletable": false,
    "editable": false,
    "tags": []
   },
   "source": [
    "***\n",
    "**<span style=\"color:blue\">Answer 2.1:</span>**\n",
    "\n",
    "Replace the ... in the cell below with your answer.  Your answer should be a single character (a, b, c, d, or e) between single or double quotes.  \n",
    "\n",
    "For this question, grader.check() only checks that a valid response has been entered.  It does **not** check if the correct response has been entered. \n",
    "\n",
    "*** Please do not change anything to the left of the equals sign. ***"
   ]
  },
  {
   "cell_type": "code",
   "execution_count": null,
   "id": "71b8f9ce",
   "metadata": {
    "tags": []
   },
   "outputs": [],
   "source": [
    "a2_1 = ..."
   ]
  },
  {
   "cell_type": "code",
   "execution_count": null,
   "id": "48665d51",
   "metadata": {
    "deletable": false,
    "editable": false
   },
   "outputs": [],
   "source": [
    "grader.check(\"q2.1\")"
   ]
  },
  {
   "cell_type": "markdown",
   "id": "a788e773",
   "metadata": {
    "deletable": false,
    "editable": false,
    "tags": []
   },
   "source": [
    "***\n",
    "#### Functions of More than a Single Variable...\n",
    "\n",
    "It is often the case that a quantity of interest depends on more than one variable.  One possibility is a function of two variable $s = f(x, t)$, where we know from experiment the values of $x\\pm\\delta x$ and $t\\pm\\delta t$.  For example, $s$ might represent the speed of a particle in a particle accelerator which could depend on both the position $x$ of the particle and the time $t$.  In this case, there are two contributions to $\\delta s$, one due to the uncertainty in $x$ and the other due to the uncertainty in $t$.  Applying Eq. $(8)$ to each gives:\n",
    "\n",
    "\\begin{align}\n",
    "\\delta s_x &= \\left\\vert\\frac{dz}{dx}\\right\\vert\\delta x\\\\\n",
    "\\delta s_t &= \\left\\vert\\frac{dz}{dt}\\right\\vert\\delta t\n",
    "\\end{align}\n",
    "\n",
    "The net uncertainty in $s$ can be estimated by summing these two contributions:\n",
    "\n",
    "\\begin{align}\n",
    "\\delta s &= \\delta s_x + \\delta s_t\\\\\n",
    "& = \\left\\vert\\frac{dz}{dx}\\right\\vert\\delta x + \\left\\vert\\frac{dz}{dt}\\right\\vert\\delta t\n",
    "\\end{align}\n",
    "\n",
    "In general, if $z = z(x_1, x_2, \\dots, x_N)$ is a function of $N$ variables, each with a known uncertainty $\\delta x_i$ for $i = 1$ to $N$, the net uncertainty in $z$ can be expressed as:\n",
    "\n",
    "\\begin{align}\n",
    "\\delta z &= \\left\\vert\\frac{dz}{dx_1}\\right\\vert\\delta x_1 + \\left\\vert\\frac{dz}{dx_2}\\right\\vert\\delta x_2 + \\cdots + \\left\\vert\\frac{dz}{dx_N}\\right\\vert\\delta x_N\\\\\n",
    "& = \\sum_{i = 1}^N \\left\\vert\\frac{dz}{dx_i}\\right\\vert\\delta x_i\n",
    "\\tag{9}\n",
    "\\end{align}\n",
    "\n",
    "#### Error Propagation Rule 3...\n",
    "\n",
    "Let's verify that Eq. $(9)$ is consistent with **rule 3** for multiplication with $z = xy$. First, we separately find the two contributions to $\\delta z$:\n",
    "\n",
    "\\begin{align}\n",
    "\\delta z_x &= \\left\\vert\\frac{dz}{dx}\\right\\vert\\delta x = \\left\\vert\\frac{d}{dx}\\left(xy\\right)\\right\\vert\\delta x = \\left\\vert y\\right\\vert\\delta x\\\\\n",
    "\\delta z_y &= \\left\\vert\\frac{dz}{dy}\\right\\vert\\delta y = \\left\\vert\\frac{d}{dy}\\left(xy\\right)\\right\\vert\\delta y = \\left\\vert x\\right\\vert\\delta y\n",
    "\\end{align}\n",
    "\n",
    "Summing these contributions to get the net uncertainty gives:\n",
    "\n",
    "\\begin{align}\n",
    "\\delta z &= \\delta z_x + \\delta z_y\\\\\n",
    "&= \\left\\vert y\\right\\vert\\delta x + \\left\\vert x\\right\\vert\\delta y\n",
    "\\end{align}\n",
    "\n",
    "Finally, let's divide this result by $\\left\\vert z\\right\\vert = \\left\\vert xy\\right\\vert$ in order to find an expression for $\\delta z/\\left\\vert z\\right\\vert$:\n",
    "\n",
    "\\begin{align}\n",
    "\\frac{\\delta z}{\\left\\vert z\\right\\vert} &= \\frac{\\left\\vert y\\right\\vert\\delta x + \\left\\vert x\\right\\vert\\delta y}{\\left\\vert z\\right\\vert}\\\\\n",
    "&= \\frac{\\left\\vert y\\right\\vert\\delta x + \\left\\vert x\\right\\vert\\delta y}{\\left\\vert xy\\right\\vert}\\\\\n",
    "&= \\frac{\\left\\vert y\\right\\vert\\delta x}{\\left\\vert xy\\right\\vert} + \\frac{\\left\\vert x\\right\\vert\\delta y}{\\left\\vert xy\\right\\vert}\\\\\n",
    "\\therefore \\frac{\\delta z}{\\left\\vert z\\right\\vert} &= \\frac{\\delta x}{\\left\\vert x\\right\\vert} + \\frac{\\delta y}{\\left\\vert y\\right\\vert}\\tag{10}\n",
    "\\end{align}\n",
    "\n",
    "Equation $(10)$ has recovered the **rule 3** which states that the relative uncertainties in $x$ and $y$ are added when $z=xy$. We'll leave it as an exercise for the curious/ambitious student to verify that Eq. $(9)$ properly reproduces the propagation of error rules for addition, subtraction, and division. For anyone interested, **Appendix A** below presents an alternative derivation of the general propagation of error expression given by Eq. $(9)$. \n"
   ]
  },
  {
   "cell_type": "markdown",
   "id": "f2dc346a",
   "metadata": {
    "deletable": false,
    "editable": false,
    "tags": []
   },
   "source": [
    "# <div style=\"background-color:rgba(255, 204, 255, 0.5); text-align:center; vertical-align: middle; padding:40px 0; margin-top:30px\"><span style=\"color:rgba(102, 0, 204, 1);\">Part 3 - Feedback and Submission</span></div>"
   ]
  },
  {
   "cell_type": "markdown",
   "id": "e4172de6",
   "metadata": {
    "deletable": false,
    "editable": false,
    "tags": []
   },
   "source": [
    "<!-- BEGIN QUESTION -->\n",
    "\n",
    "**<span style=\"color:blue\">Question 3.1:</span>**  \n",
    "\n",
    "We welcome your feedback on the PHYS 121 pre-labs!  Please feel free to include any comments you have about this pre-lab in the cell below.  Your comments will be taken into consideration when revising/improving the PHYS 121 labs and pre-labs.  You can suggest improvements, point out anything that was unclear, comment on the strengths and weaknesses of the pre-lab, ...\n",
    "\n",
    "This question is optional and will have no impact on your pre-lab or lab grade."
   ]
  },
  {
   "cell_type": "markdown",
   "id": "01935aca",
   "metadata": {},
   "source": [
    "***\n",
    "**<span style=\"color:blue\">Answer 3.1:</span>**\n",
    "\n",
    "[//]: # (Please do not delete this comment or anything above it.  Anything below this comment can be deleted.)  \n",
    "\n",
    "Double click this cell and enter your text here.  When done, hit 'Shift' + 'Enter' to execute the cell.  You may delete this text when entering your answer. "
   ]
  },
  {
   "cell_type": "markdown",
   "id": "ff27d702",
   "metadata": {
    "deletable": false,
    "editable": false,
    "tags": []
   },
   "source": [
    "<!-- END QUESTION -->\n",
    "\n",
    "---\n",
    "\n",
    "To double-check your work, the cell below will rerun all of the autograder tests."
   ]
  },
  {
   "cell_type": "code",
   "execution_count": null,
   "id": "3a4989d2",
   "metadata": {},
   "outputs": [],
   "source": [
    "grader.check_all()"
   ]
  },
  {
   "cell_type": "markdown",
   "id": "46bead8f",
   "metadata": {
    "deletable": false,
    "editable": false,
    "tags": []
   },
   "source": [
    "***\n",
    "\n",
    "## Submission\n",
    "\n",
    "Make sure you have run all cells in your notebook in order before running the cell below, so that all images/graphs appear in the output. The cell below will generate a zip file for you to submit. **Please save before exporting!**\n",
    "\n",
    "Once you've completed this notebook:\n",
    "- Save your work.\n",
    "- Run 'grader.export()' to generate a .zip file containing all of the materials that you will submit.\n",
    "- Download the generated .zip file.\n",
    "- Upload the .zip file to the PHYS 121 Lab Canvas gradebook.\n",
    "\n",
    "Here is a <a href = \"https://cmps-people.ok.ubc.ca/jbobowsk/phys231/Python/images/Submission.gif\">GIF</a> showing how these steps are completed.  Once your completed notebook has been uploaded to the Canvas gradebook, you're done!"
   ]
  },
  {
   "cell_type": "code",
   "execution_count": null,
   "id": "cc768aab",
   "metadata": {
    "deletable": false,
    "editable": false,
    "tags": []
   },
   "outputs": [],
   "source": [
    "# Save your notebook first, then run this cell (place your cursor in the cell and then hit Shift + Enter) to export \n",
    "# your submission.  Uploaded the .zip file that is generated to the gradebook of the Canvas shell for the PHYS 121 lab.\n",
    "grader.export()"
   ]
  },
  {
   "cell_type": "markdown",
   "id": "335b1cac",
   "metadata": {
    "deletable": false,
    "editable": false,
    "tags": []
   },
   "source": [
    "# <div style=\"background-color:rgba(255, 204, 255, 0.5); text-align:center; vertical-align: middle; padding:40px 0; margin-top:30px\"><span style=\"color:rgba(102, 0, 204, 1);\">Playground (optional)</span></div>\n",
    "\n",
    "Feel free to add as many cells as you like below and use them as a playground for further independent investigations.  These cells won't be graded, so feel free to use them in any way that you like.  For example, you could compare Gaussian distributions with different standard deviations and/or means. "
   ]
  },
  {
   "cell_type": "code",
   "execution_count": null,
   "id": "da3311cb",
   "metadata": {},
   "outputs": [],
   "source": [
    "# Here's an empty code cell that you can use.\n"
   ]
  },
  {
   "cell_type": "code",
   "execution_count": null,
   "id": "c213826e",
   "metadata": {},
   "outputs": [],
   "source": [
    "# Here's another empty code cell that you can use.\n"
   ]
  },
  {
   "cell_type": "code",
   "execution_count": null,
   "id": "a31f750e",
   "metadata": {},
   "outputs": [],
   "source": [
    "# Here's yet another empty code cell that you can use.  \n",
    "# If you need more, you can add cells using the '+' icon in the menu bar at to the top of the screen.\n"
   ]
  },
  {
   "cell_type": "markdown",
   "id": "2ddb687d",
   "metadata": {
    "deletable": false,
    "editable": false,
    "tags": []
   },
   "source": [
    "### <div style=\"background-color:rgba(255, 255, 102, 0.5); text-align:left; padding:20px 0; margin-top:20px\">$\\quad$Appendix A &ndash; Uncertainty Calculations (Optional)</div>\n",
    "\n",
    "If you're comfortable with calculus, all of the propagation of error rules given in **Part 1** and the general expression given by Eq. $(9)$ in **Part 2** can be derived by applying the chain rule to $z = f(x_1, x_2, \\dots, x_N)$. Assuming that each of the variables $x_i$ and their associated uncertainties $\\delta x_i$ have been measured, the uncertainty in $z$ is given by:\n",
    "\n",
    "\\begin{align}\n",
    "\\delta z &= \\left| \\frac{d f}{d x_1} \\right| \\delta x_1 + \\left| \\frac{d f}{d x_2} \\right| \\delta x_2 + \\cdots + \\left| \\frac{d f}  {d x_N} \\right| \\delta x_N\\\\\n",
    "&= \\sum_{i=1}^N \\left|\\frac{d f}{d x_i} \\right| \\delta x_i \n",
    "\\tag{11}\n",
    "\\end{align}\n",
    "\n",
    "which simply reproduces Eq. $(9)$ from **Part 2**.  We can read the derivates as the rate at which $z$ changes as $x_i$ changes. If $z = f(x_1, x_2, \\dots, x_N)$ *very* sensitive to the value of $x_1$, for instance, then the $\\delta x_1$ will have a greater contribution to the net uncertainty in $z$.\n",
    "\n",
    "In addition to providing some conceptuial clarity, this makes calculating uncertainties much simpler. For instance, the rules given in **Part 1** provide no roadmap for calculating the uncertainty in $z = \\sin x$, but Eq. $(11)$ tells us that: \n",
    "\n",
    "\\begin{align}\n",
    "\\delta z &= \\left| \\frac{d}{dx}\\left(\\sin(x)\\right)\\right| \\delta x\\\\\n",
    " &= \\left| \\cos (x) \\right| \\delta x \n",
    "\\end{align}\n",
    "\n",
    "Suppose we measure that:\n",
    "\n",
    "\\begin{align} \n",
    "x = 0 \\pm \\delta x\n",
    "\\end{align}\n",
    "\n",
    "Since $\\cos \\left(0\\right) = 1$, we simply have: \n",
    "\n",
    "\\begin{align} \n",
    "\\delta z = \\delta x\n",
    "\\end{align}\n",
    "\n",
    "Conversely, if we measured:\n",
    "\n",
    "\\begin{align} \n",
    "x = \\left(\\frac{\\pi}{2} + \\varepsilon\\right) \\pm \\delta x\n",
    "\\end{align}\n",
    "\n",
    "for some small number $\\varepsilon$, we're near the peak of the sine function where $\\sin x$ is changing very slowly as $x$ changes (i.e. the tangent line to $\\sin(x)$ is horizontal near $x=\\pi/2$). Accordingly, the uncertainty in $z$ is given by:  \n",
    "\n",
    "\\begin{align}\n",
    "\\delta z = \\left| \\cos \\left(\\frac{\\pi}{2} + \\varepsilon\\right) \\right| \\delta x\n",
    "\\end{align}\n",
    "\n",
    "Using the trig identity $\\cos(\\theta + \\pi/2) = \\sin\\left(\\theta\\right)$ and the small angle approximation $\\sin\\left(\\varepsilon\\right)\\approx\\varepsilon$, we have:\n",
    "\n",
    "\\begin{align}\n",
    "\\delta z &= \\left| \\sin \\left(\\varepsilon\\right) \\right| \\delta x\\\\\n",
    "&\\approx \\left| \\varepsilon \\right| \\delta x\n",
    "\\end{align}\n",
    "\n",
    "Therefore, as expected, $y=sin(x)$ has a small uncertainty near $x=\\pi/2$ where the slope the tangent line is shallow.\n",
    "\n",
    "If you choose to continue on in Physics, you will learn more about experimental statistical analysis in Physics 232. \n",
    "***"
   ]
  },
  {
   "cell_type": "markdown",
   "id": "94f14493",
   "metadata": {
    "deletable": false,
    "editable": false,
    "tags": []
   },
   "source": [
    "<img src=\"https://raw.githubusercontent.com/UBC-Okanagan-Physics-Labs/PHYS-121-images/main/general/images/ubc-logo-full.jpg\" width=\"500\"/>"
   ]
  },
  {
   "cell_type": "markdown",
   "id": "450ad3ce",
   "metadata": {},
   "source": [
    "Last update: March 5, 2023"
   ]
  }
 ],
 "metadata": {
  "kernelspec": {
   "display_name": "Python 3 (ipykernel)",
   "language": "python",
   "name": "python3"
  },
  "language_info": {
   "codemirror_mode": {
    "name": "ipython",
    "version": 3
   },
   "file_extension": ".py",
   "mimetype": "text/x-python",
   "name": "python",
   "nbconvert_exporter": "python",
   "pygments_lexer": "ipython3",
   "version": "3.10.6"
  },
  "otter": {
   "OK_FORMAT": true,
   "tests": {
    "q1.1": {
     "name": "q1.1",
     "points": null,
     "suites": [
      {
       "cases": [
        {
         "code": ">>> np.isclose(tau1, R*C)\nTrue",
         "failure_message": "See Eq. (6).  The time constant is given by the product of R and C.",
         "hidden": false,
         "locked": false,
         "points": 0.5
        },
        {
         "code": ">>> np.isclose(errTau1, ((errR/R)+(errC/C))*R*C)\nTrue",
         "failure_message": "You need to apply propagation of error rule 3 for multplication/division.",
         "hidden": false,
         "locked": false,
         "points": 0.5
        }
       ],
       "scored": true,
       "setup": "",
       "teardown": "",
       "type": "doctest"
      }
     ]
    },
    "q1.2": {
     "name": "q1.2",
     "points": null,
     "suites": [
      {
       "cases": [
        {
         "code": ">>> np.isclose(tau2, -1/slope)\nTrue",
         "failure_message": "See Eq. (7).  The time constant is inversely proportional to the slope.  Also pay attention to the sign.",
         "hidden": false,
         "locked": false,
         "points": 1
        }
       ],
       "scored": true,
       "setup": "",
       "teardown": "",
       "type": "doctest"
      }
     ]
    },
    "q1.3": {
     "name": "q1.3",
     "points": null,
     "suites": [
      {
       "cases": [
        {
         "code": ">>> np.isclose(errTau2, errSlope / slope**2)\nTrue",
         "failure_message": "In this case, you can either apply propagation of error rule 4 for powers or rule 3 for multplication/division.",
         "hidden": false,
         "locked": false,
         "points": 1
        }
       ],
       "scored": true,
       "setup": "",
       "teardown": "",
       "type": "doctest"
      }
     ]
    },
    "q2.1": {
     "name": "q2.1",
     "points": null,
     "suites": [
      {
       "cases": [
        {
         "code": ">>> a2_1.lower() in [\"a\", \"b\", \"c\", \"d\", \"e\"]\nTrue",
         "failure_message": "Your answer must be a string of one of 'a', 'b', 'c', 'd', or 'e'.",
         "hidden": false,
         "locked": false,
         "points": 0
        }
       ],
       "scored": true,
       "setup": "",
       "teardown": "",
       "type": "doctest"
      }
     ]
    }
   }
  },
  "vscode": {
   "interpreter": {
    "hash": "b870ad910a049d8ae52495743c7bc32c2e217ef524f139ca97c6947f4622129b"
   }
  }
 },
 "nbformat": 4,
 "nbformat_minor": 5
}
